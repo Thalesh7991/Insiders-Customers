{
 "cells": [
  {
   "cell_type": "markdown",
   "metadata": {},
   "source": [
    "# PA005: High Value Customer Identification"
   ]
  },
  {
   "cell_type": "markdown",
   "metadata": {},
   "source": [
    "## 0.0 Planejamento da solução (IOT)"
   ]
  },
  {
   "cell_type": "markdown",
   "metadata": {},
   "source": [
    "## Input - Entrada"
   ]
  },
  {
   "cell_type": "markdown",
   "metadata": {},
   "source": [
    "1. Problema de Negócio\n",
    "    - Selecionar os cliente mais valiosos para integrar um programa de fidelização\n",
    "\n",
    "2. Conjunto de dados\n",
    "    - Vendas de um e-commerce online de um ano"
   ]
  },
  {
   "cell_type": "code",
   "execution_count": null,
   "metadata": {},
   "outputs": [],
   "source": []
  },
  {
   "cell_type": "markdown",
   "metadata": {},
   "source": [
    "## Output  - Saída"
   ]
  },
  {
   "cell_type": "markdown",
   "metadata": {},
   "source": [
    "1. A indicação das pessoas que farão parte do programa de Insiders\n",
    "    - Lista: client_id | is_insider |\n",
    "    \n",
    "2. Relatório com as respostas das perguntas de negócio\n",
    "   - Quem são as pessoas elegíveis para participar do programa de Insiders ?\n",
    "   \n",
    "   - Quantos clientes farão parte do grupo?\n",
    "   \n",
    "   - Quais as principais características desses clientes ?\n",
    "   \n",
    "   - Qual a porcentagem de contribuição do faturamento, vinda do Insiders ?\n",
    "   \n",
    "   - Qual a expectativa de faturamento desse grupo para os próximos meses ?\n",
    "   \n",
    "   - Quais as condições para uma pessoa ser elegível ao Insiders ?\n",
    "   \n",
    "   - Quais as condições para uma pessoa ser removida do Insiders ?\n",
    "   \n",
    "   - Qual a garantia que o programa Insiders é melhor que o restante da base ?\n",
    "   \n",
    "   - Quais ações o time de marketing pode realizar para aumentar o faturamento?"
   ]
  },
  {
   "cell_type": "markdown",
   "metadata": {},
   "source": [
    "## Task - Tarefas"
   ]
  },
  {
   "cell_type": "markdown",
   "metadata": {},
   "source": [
    "   - Quem são as pessoas elegíveis para participar do programa de Insiders ?\n",
    "       - Oque são cliente valiosos??\n",
    "           - Faturamento:\n",
    "               - Alto Ticket Médio (Média dos Preços).\n",
    "               \n",
    "               - Alto LTV () .\n",
    "               \n",
    "               - Baixa Recência.\n",
    "               \n",
    "               - Alto Basket size.\n",
    "               \n",
    "               - Baixa probabilidade de Churn.\n",
    "               \n",
    "               - Alta propensão de compra.\n",
    "               \n",
    "           - Custo:\n",
    "               - Baixa taxa de devolução\n",
    "               \n",
    "               - \n",
    "               \n",
    "               \n",
    "               \n",
    "         - Experiência de Compra:  \n",
    "             - Média alta das avaliações\n",
    "           \n",
    "   \n",
    "   \n",
    "   \n",
    "   - Quantos clientes farão parte do grupo?\n",
    "   \n",
    "   \n",
    "   - Quais as principais características desses clientes ?\n",
    "       - Escrever características do cliente:\n",
    "           - Idade\n",
    "           - Localização\n",
    "           \n",
    "      - Escrever características do consumo\n",
    "          - Atributos da Clusterização\n",
    "           \n",
    "   \n",
    "   - Qual a porcentagem de contribuição do faturamento, vinda do Insiders ?\n",
    "       - Faturamento total do ano\n",
    "       - Faturamento total do Grupo de Insiders\n",
    "       \n",
    "       \n",
    "   - Qual a expectativa de faturamento desse grupo para os próximos meses ?\n",
    "       - LTV do grupo insiders\n",
    "       - Análise de Cohort\n",
    "       \n",
    "       \n",
    "   - Quais as condições para uma pessoa ser elegível ao Insiders ?\n",
    "       - Definir a periodicidade de atualização da clusterização\n",
    "       - A pessoa precisa ser similiar com uma outra pessoa do grupo\n",
    "       \n",
    "       \n",
    "   \n",
    "   - Quais as condições para uma pessoa ser removida do Insiders ?\n",
    "       - Definir a periodicidade de atualização da clusterização\n",
    "       - A pessoa precisa ser disimilar com uma outra pessoa do grupo\n",
    "       \n",
    "       \n",
    "   - Qual a garantia que o programa Insiders é melhor que o restante da base ?\n",
    "       - Teste A/B\n",
    "       - Teste A/B bayesiano\n",
    "       - Teste de Hipótese\n",
    "       \n",
    "       \n",
    "   - Quais ações o time de marketing pode realizar para aumentar o faturamento?\n",
    "       - Desconto\n",
    "       - Preferência de Compra\n",
    "       - Frete\n",
    "       - Visita a empresa"
   ]
  },
  {
   "cell_type": "markdown",
   "metadata": {},
   "source": [
    "# Benchmark de Soluções"
   ]
  },
  {
   "cell_type": "markdown",
   "metadata": {},
   "source": [
    "## 1. Desk Research"
   ]
  },
  {
   "cell_type": "code",
   "execution_count": null,
   "metadata": {},
   "outputs": [],
   "source": []
  },
  {
   "cell_type": "code",
   "execution_count": null,
   "metadata": {},
   "outputs": [],
   "source": []
  },
  {
   "cell_type": "code",
   "execution_count": null,
   "metadata": {},
   "outputs": [],
   "source": []
  }
 ],
 "metadata": {
  "kernelspec": {
   "display_name": "Python 3",
   "language": "python",
   "name": "python3"
  },
  "language_info": {
   "codemirror_mode": {
    "name": "ipython",
    "version": 3
   },
   "file_extension": ".py",
   "mimetype": "text/x-python",
   "name": "python",
   "nbconvert_exporter": "python",
   "pygments_lexer": "ipython3",
   "version": "3.8.5"
  }
 },
 "nbformat": 4,
 "nbformat_minor": 4
}
